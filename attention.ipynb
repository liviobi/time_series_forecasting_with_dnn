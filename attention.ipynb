{
 "cells": [
  {
   "cell_type": "markdown",
   "metadata": {
    "_cell_guid": "b1076dfc-b9ad-4769-8c92-a6c4dae69d19",
    "_uuid": "8f2839f25d086af736a60e9eeb907d3b93b6e0e5"
   },
   "source": [
    "[Source](https://keras.io/examples/timeseries/timeseries_transformer_classification/)"
   ]
  },
  {
   "cell_type": "code",
   "execution_count": 16,
   "metadata": {
    "execution": {
     "iopub.execute_input": "2022-01-06T14:03:34.821580Z",
     "iopub.status.busy": "2022-01-06T14:03:34.820738Z",
     "iopub.status.idle": "2022-01-06T14:03:34.828164Z",
     "shell.execute_reply": "2022-01-06T14:03:34.827194Z",
     "shell.execute_reply.started": "2022-01-06T14:03:34.821528Z"
    }
   },
   "outputs": [],
   "source": [
    "%cd ./input"
   ]
  },
  {
   "cell_type": "code",
   "execution_count": 17,
   "metadata": {
    "execution": {
     "iopub.execute_input": "2022-01-06T14:03:34.831407Z",
     "iopub.status.busy": "2022-01-06T14:03:34.830695Z",
     "iopub.status.idle": "2022-01-06T14:03:34.838798Z",
     "shell.execute_reply": "2022-01-06T14:03:34.838065Z",
     "shell.execute_reply.started": "2022-01-06T14:03:34.831368Z"
    }
   },
   "outputs": [],
   "source": [
    "import random\n",
    "import tensorflow as tf\n",
    "import numpy as np\n",
    "import os\n",
    "import pandas as pd\n",
    "import seaborn as sns\n",
    "import matplotlib.pyplot as plt\n",
    "plt.rc('font', size=16)\n",
    "from sklearn.preprocessing import MinMaxScaler\n",
    "import warnings\n",
    "warnings.filterwarnings('ignore')\n",
    "tf.get_logger().setLevel('ERROR')\n",
    "\n",
    "tfk = tf.keras\n",
    "tfkl = tf.keras.layers"
   ]
  },
  {
   "cell_type": "code",
   "execution_count": 18,
   "metadata": {
    "execution": {
     "iopub.execute_input": "2022-01-06T14:03:34.841514Z",
     "iopub.status.busy": "2022-01-06T14:03:34.841213Z",
     "iopub.status.idle": "2022-01-06T14:03:34.857652Z",
     "shell.execute_reply": "2022-01-06T14:03:34.856772Z",
     "shell.execute_reply.started": "2022-01-06T14:03:34.841443Z"
    }
   },
   "outputs": [],
   "source": [
    "# Random seed for reproducibility\n",
    "seed = 42\n",
    "\n",
    "random.seed(seed)\n",
    "os.environ['PYTHONHASHSEED'] = str(seed)\n",
    "np.random.seed(seed)\n",
    "tf.random.set_seed(seed)\n",
    "tf.compat.v1.set_random_seed(seed)"
   ]
  },
  {
   "cell_type": "code",
   "execution_count": 19,
   "metadata": {
    "execution": {
     "iopub.execute_input": "2022-01-06T14:03:34.860451Z",
     "iopub.status.busy": "2022-01-06T14:03:34.860215Z",
     "iopub.status.idle": "2022-01-06T14:03:34.973022Z",
     "shell.execute_reply": "2022-01-06T14:03:34.972180Z",
     "shell.execute_reply.started": "2022-01-06T14:03:34.860419Z"
    }
   },
   "outputs": [],
   "source": [
    "dataset = pd.read_csv('Training.csv')\n",
    "print(dataset.shape)\n",
    "dataset.head()"
   ]
  },
  {
   "cell_type": "code",
   "execution_count": 20,
   "metadata": {
    "execution": {
     "iopub.execute_input": "2022-01-06T14:03:34.975543Z",
     "iopub.status.busy": "2022-01-06T14:03:34.975285Z",
     "iopub.status.idle": "2022-01-06T14:03:35.868348Z",
     "shell.execute_reply": "2022-01-06T14:03:35.866632Z",
     "shell.execute_reply.started": "2022-01-06T14:03:34.975509Z"
    }
   },
   "outputs": [],
   "source": [
    "def inspect_dataframe(df, columns):\n",
    "    figs, axs = plt.subplots(len(columns), 1, sharex=True, figsize=(17,17))\n",
    "    for i, col in enumerate(columns):\n",
    "        axs[i].plot(df[col])\n",
    "        axs[i].set_title(col)\n",
    "    plt.show()\n",
    "inspect_dataframe(dataset, dataset.columns)"
   ]
  },
  {
   "cell_type": "code",
   "execution_count": 21,
   "metadata": {
    "execution": {
     "iopub.execute_input": "2022-01-06T14:03:35.870179Z",
     "iopub.status.busy": "2022-01-06T14:03:35.869701Z",
     "iopub.status.idle": "2022-01-06T14:03:37.222085Z",
     "shell.execute_reply": "2022-01-06T14:03:37.221409Z",
     "shell.execute_reply.started": "2022-01-06T14:03:35.870142Z"
    }
   },
   "outputs": [],
   "source": [
    "X_train_raw = dataset.copy()\n",
    "print(X_train_raw.shape)\n",
    "\n",
    "# Normalize both features and labels\n",
    "X_min = X_train_raw.min()\n",
    "X_max = X_train_raw.max()\n",
    "\n",
    "X_train_raw = (X_train_raw-X_min)/(X_max-X_min)\n",
    "\n",
    "inspect_dataframe(X_train_raw, X_train_raw.columns)"
   ]
  },
  {
   "cell_type": "code",
   "execution_count": 22,
   "metadata": {
    "execution": {
     "iopub.execute_input": "2022-01-06T14:03:37.223690Z",
     "iopub.status.busy": "2022-01-06T14:03:37.223352Z",
     "iopub.status.idle": "2022-01-06T14:03:37.229871Z",
     "shell.execute_reply": "2022-01-06T14:03:37.229014Z",
     "shell.execute_reply.started": "2022-01-06T14:03:37.223658Z"
    }
   },
   "outputs": [],
   "source": [
    "#how many samples from the training data I take for each training step\n",
    "window = 800\n",
    "#how many samples from the training data I take for each training step\n",
    "telescope = 80\n",
    "#how many samples I skip when I move the window\n",
    "stride = 4"
   ]
  },
  {
   "cell_type": "code",
   "execution_count": 23,
   "metadata": {
    "execution": {
     "iopub.execute_input": "2022-01-06T14:03:37.232219Z",
     "iopub.status.busy": "2022-01-06T14:03:37.231670Z",
     "iopub.status.idle": "2022-01-06T14:03:37.243353Z",
     "shell.execute_reply": "2022-01-06T14:03:37.242693Z",
     "shell.execute_reply.started": "2022-01-06T14:03:37.232182Z"
    }
   },
   "outputs": [],
   "source": [
    "def build_sequences(df, target_labels, window, stride, telescope):\n",
    "    # Sanity check to avoid runtime errors\n",
    "    assert window % stride == 0\n",
    "    dataset = []\n",
    "    labels = []\n",
    "    #copy because this way temp_df is decoupled from df\n",
    "    #values converts from a dataframe to a numpy array\n",
    "    temp_df = df.copy().values\n",
    "    #target labels => what I want to predict??-- for each step what I predict in the future\n",
    "    temp_label = df[target_labels].copy().values\n",
    "    padding_len = len(df)%window\n",
    "\n",
    "    if(padding_len != 0):\n",
    "        # Compute padding length at the BEGINNING of the data\n",
    "        padding_len = window - len(df)%window\n",
    "        padding = np.zeros((padding_len,temp_df.shape[1]), dtype='float64')\n",
    "        temp_df = np.concatenate((padding,df))\n",
    "        padding = np.zeros((padding_len,temp_label.shape[1]), dtype='float64')\n",
    "        temp_label = np.concatenate((padding,temp_label))\n",
    "        assert len(temp_df) % window == 0\n",
    "    #extract from the time series segments of size window and specified stride and then concatenate\n",
    "    for idx in np.arange(0,len(temp_df)-window-telescope,stride):\n",
    "        dataset.append(temp_df[idx:idx+window])\n",
    "        labels.append(temp_label[idx+window:idx+window+telescope])\n",
    "\n",
    "    dataset = np.array(dataset)\n",
    "    labels = np.array(labels)\n",
    "    return dataset, labels"
   ]
  },
  {
   "cell_type": "code",
   "execution_count": 24,
   "metadata": {
    "execution": {
     "iopub.execute_input": "2022-01-06T14:03:37.245054Z",
     "iopub.status.busy": "2022-01-06T14:03:37.244788Z",
     "iopub.status.idle": "2022-01-06T14:03:37.254871Z",
     "shell.execute_reply": "2022-01-06T14:03:37.254289Z",
     "shell.execute_reply.started": "2022-01-06T14:03:37.245022Z"
    }
   },
   "outputs": [],
   "source": [
    "def inspect_multivariate(X, y, columns, telescope, idx=None):\n",
    "    if(idx==None):\n",
    "        idx=np.random.randint(0,len(X))\n",
    "\n",
    "    figs, axs = plt.subplots(len(columns), 1, sharex=True, figsize=(17,17))\n",
    "    for i, col in enumerate(columns):\n",
    "        axs[i].plot(np.arange(len(X[0,:,i])), X[idx,:,i])\n",
    "        axs[i].scatter(np.arange(len(X[0,:,i]), len(X_train[0,:,i])+telescope), y[idx,:,i], color='orange')\n",
    "        axs[i].set_title(col)\n",
    "        axs[i].set_ylim(0,1)\n",
    "    plt.show()"
   ]
  },
  {
   "cell_type": "code",
   "execution_count": 25,
   "metadata": {
    "execution": {
     "iopub.execute_input": "2022-01-06T14:03:37.258497Z",
     "iopub.status.busy": "2022-01-06T14:03:37.258291Z",
     "iopub.status.idle": "2022-01-06T14:03:37.266707Z",
     "shell.execute_reply": "2022-01-06T14:03:37.265922Z",
     "shell.execute_reply.started": "2022-01-06T14:03:37.258462Z"
    }
   },
   "outputs": [],
   "source": [
    "def inspect_multivariate_prediction(X, y, pred, columns, telescope, idx=None):\n",
    "    if(idx==None):\n",
    "        idx=np.random.randint(0,len(X))\n",
    "\n",
    "    figs, axs = plt.subplots(len(columns), 1, sharex=True, figsize=(17,17))\n",
    "    for i, col in enumerate(columns):\n",
    "        axs[i].plot(np.arange(len(X[0,:,i])), X[idx,:,i])\n",
    "        axs[i].plot(np.arange(len(X[0,:,i]), len(X_train[0,:,i])+telescope), y[idx,:,i], color='orange')\n",
    "        axs[i].plot(np.arange(len(X[0,:,i]), len(X_train[0,:,i])+telescope), pred[idx,:,i], color='green')\n",
    "        axs[i].set_title(col)\n",
    "        axs[i].set_ylim(0,1)\n",
    "    plt.show()"
   ]
  },
  {
   "cell_type": "code",
   "execution_count": 26,
   "metadata": {
    "execution": {
     "iopub.execute_input": "2022-01-06T14:03:37.269413Z",
     "iopub.status.busy": "2022-01-06T14:03:37.268640Z",
     "iopub.status.idle": "2022-01-06T14:03:37.278079Z",
     "shell.execute_reply": "2022-01-06T14:03:37.277394Z",
     "shell.execute_reply.started": "2022-01-06T14:03:37.269377Z"
    }
   },
   "outputs": [],
   "source": [
    "def transformer_encoder(inputs, head_size, num_heads, ff_dim, dropout=0):\n",
    "    # Normalization and Attention\n",
    "    x = tfkl.LayerNormalization(epsilon=1e-6)(inputs)\n",
    "    x = tfkl.MultiHeadAttention(\n",
    "        key_dim=head_size, num_heads=num_heads, dropout=dropout\n",
    "    )(x, x)\n",
    "    x = tfkl.Dropout(dropout)(x)\n",
    "    res = x + inputs\n",
    "\n",
    "    # Feed Forward Part\n",
    "    x = tfkl.LayerNormalization(epsilon=1e-6)(res)\n",
    "    x = tfkl.Conv1D(filters=ff_dim, kernel_size=1, activation=\"relu\")(x)\n",
    "    x = tfkl.Dropout(dropout)(x)\n",
    "    x = tfkl.Conv1D(filters=inputs.shape[-1], kernel_size=1)(x)\n",
    "    return x + res"
   ]
  },
  {
   "cell_type": "code",
   "execution_count": 27,
   "metadata": {
    "execution": {
     "iopub.execute_input": "2022-01-06T14:03:37.279634Z",
     "iopub.status.busy": "2022-01-06T14:03:37.279295Z",
     "iopub.status.idle": "2022-01-06T14:03:37.287449Z",
     "shell.execute_reply": "2022-01-06T14:03:37.286665Z",
     "shell.execute_reply.started": "2022-01-06T14:03:37.279600Z"
    }
   },
   "outputs": [],
   "source": [
    "def build_model(\n",
    "    input_shape,\n",
    "    head_size,\n",
    "    num_heads,\n",
    "    ff_dim,\n",
    "    num_transformer_blocks,\n",
    "    dropout=0,\n",
    "):\n",
    "    inputs = tfk.Input(shape=input_shape)\n",
    "    x = inputs\n",
    "    for _ in range(num_transformer_blocks):\n",
    "        x = transformer_encoder(x, head_size, num_heads, ff_dim, dropout)\n",
    "\n",
    "    x = tfkl.Flatten()(x)\n",
    "    dense = tfkl.Dense(output_shape[-1]*output_shape[-2], activation='relu')(x)\n",
    "    output_layer = tfkl.Reshape((output_shape[-2],output_shape[-1]))(dense)\n",
    "    #output_layer = tfkl.Conv1D(output_shape[-1], 1, padding='same')(output_layer)\n",
    "    return tfk.Model(inputs, output_layer)"
   ]
  },
  {
   "cell_type": "code",
   "execution_count": 28,
   "metadata": {
    "execution": {
     "iopub.execute_input": "2022-01-06T14:03:37.289690Z",
     "iopub.status.busy": "2022-01-06T14:03:37.289234Z",
     "iopub.status.idle": "2022-01-06T14:03:37.295675Z",
     "shell.execute_reply": "2022-01-06T14:03:37.294881Z",
     "shell.execute_reply.started": "2022-01-06T14:03:37.289654Z"
    }
   },
   "outputs": [],
   "source": [
    "target_labels = dataset.columns"
   ]
  },
  {
   "cell_type": "code",
   "execution_count": 29,
   "metadata": {
    "execution": {
     "iopub.execute_input": "2022-01-06T14:03:37.297413Z",
     "iopub.status.busy": "2022-01-06T14:03:37.297130Z",
     "iopub.status.idle": "2022-01-06T14:03:37.571594Z",
     "shell.execute_reply": "2022-01-06T14:03:37.570899Z",
     "shell.execute_reply.started": "2022-01-06T14:03:37.297350Z"
    }
   },
   "outputs": [],
   "source": [
    "X_train, y_train = build_sequences(X_train_raw, target_labels, window, stride, telescope)\n",
    "X_train.shape, y_train.shape"
   ]
  },
  {
   "cell_type": "code",
   "execution_count": 30,
   "metadata": {
    "execution": {
     "iopub.execute_input": "2022-01-06T14:03:37.573273Z",
     "iopub.status.busy": "2022-01-06T14:03:37.572845Z",
     "iopub.status.idle": "2022-01-06T16:30:05.736502Z",
     "shell.execute_reply": "2022-01-06T16:30:05.735787Z",
     "shell.execute_reply.started": "2022-01-06T14:03:37.573237Z"
    }
   },
   "outputs": [],
   "source": [
    "input_shape = X_train.shape[1:]\n",
    "output_shape = y_train.shape[1:]\n",
    "\n",
    "model = build_model(\n",
    "    input_shape,\n",
    "    head_size=256,\n",
    "    num_heads=4,\n",
    "    ff_dim=4,\n",
    "    num_transformer_blocks=4,\n",
    "    dropout=0.25,\n",
    ")\n",
    "\n",
    "model.compile(\n",
    "    loss=tfk.losses.MeanSquaredError(),\n",
    "    optimizer=tfk.optimizers.Adam(learning_rate=2e-4),\n",
    "    metrics=['mae'],\n",
    ")\n",
    "model.summary()\n",
    "\n",
    "callbacks = [\n",
    "                tfk.callbacks.EarlyStopping(monitor='val_loss', mode='min', patience=10, restore_best_weights=True),\n",
    "                tfk.callbacks.ReduceLROnPlateau(monitor='val_loss', mode='min', patience=5, factor=0.5, min_lr=1e-5)\n",
    "            ]\n",
    "\n",
    "model.fit(\n",
    "    X_train,\n",
    "    y_train,\n",
    "    validation_split=0.2,\n",
    "    epochs=60,\n",
    "    batch_size=8,\n",
    "    callbacks=callbacks,\n",
    ")"
   ]
  },
  {
   "cell_type": "code",
   "execution_count": 31,
   "metadata": {
    "execution": {
     "iopub.execute_input": "2022-01-06T16:30:05.738070Z",
     "iopub.status.busy": "2022-01-06T16:30:05.737812Z",
     "iopub.status.idle": "2022-01-06T16:30:11.465073Z",
     "shell.execute_reply": "2022-01-06T16:30:11.464380Z",
     "shell.execute_reply.started": "2022-01-06T16:30:05.738037Z"
    }
   },
   "outputs": [],
   "source": [
    "#%cd ../model/\n",
    "\n",
    "# Save the best model\n",
    "#model.save('attention')\n",
    "\n",
    "# To avoid filling the memory\n",
    "#del model"
   ]
  },
  {
   "cell_type": "code",
   "execution_count": 33,
   "metadata": {
    "execution": {
     "iopub.execute_input": "2022-01-06T16:30:14.711520Z",
     "iopub.status.busy": "2022-01-06T16:30:14.711154Z",
     "iopub.status.idle": "2022-01-06T16:30:14.717523Z",
     "shell.execute_reply": "2022-01-06T16:30:14.716794Z",
     "shell.execute_reply.started": "2022-01-06T16:30:14.711480Z"
    }
   },
   "outputs": [],
   "source": [
    "#the samples I want to predict in the future using auto regression\n",
    "reg_telescope = 864"
   ]
  },
  {
   "cell_type": "code",
   "execution_count": 34,
   "metadata": {
    "execution": {
     "iopub.execute_input": "2022-01-06T16:30:14.719924Z",
     "iopub.status.busy": "2022-01-06T16:30:14.719180Z",
     "iopub.status.idle": "2022-01-06T16:30:14.729337Z",
     "shell.execute_reply": "2022-01-06T16:30:14.728694Z",
     "shell.execute_reply.started": "2022-01-06T16:30:14.719879Z"
    }
   },
   "outputs": [],
   "source": [
    "#covert dataset to tensor to mimic evaluator(codalab) input\n",
    "X = tf.constant(dataset, dtype = tf.float32, shape=[68528,7])"
   ]
  },
  {
   "cell_type": "code",
   "execution_count": 35,
   "metadata": {
    "execution": {
     "iopub.execute_input": "2022-01-06T16:30:14.731509Z",
     "iopub.status.busy": "2022-01-06T16:30:14.730999Z",
     "iopub.status.idle": "2022-01-06T16:30:14.742511Z",
     "shell.execute_reply": "2022-01-06T16:30:14.741854Z",
     "shell.execute_reply.started": "2022-01-06T16:30:14.731472Z"
    }
   },
   "outputs": [],
   "source": [
    "X = X.numpy()\n",
    "X_min = X.min(axis=0)\n",
    "X_max = X.max(axis=0)"
   ]
  },
  {
   "cell_type": "code",
   "execution_count": 36,
   "metadata": {
    "execution": {
     "iopub.execute_input": "2022-01-06T16:30:14.744238Z",
     "iopub.status.busy": "2022-01-06T16:30:14.743635Z",
     "iopub.status.idle": "2022-01-06T16:30:14.750366Z",
     "shell.execute_reply": "2022-01-06T16:30:14.749696Z",
     "shell.execute_reply.started": "2022-01-06T16:30:14.744204Z"
    }
   },
   "outputs": [],
   "source": [
    "#future is the samples I use to predict the next steps \n",
    "future = X[-window:]\n",
    "future.shape"
   ]
  },
  {
   "cell_type": "code",
   "execution_count": 37,
   "metadata": {
    "execution": {
     "iopub.execute_input": "2022-01-06T16:30:14.752045Z",
     "iopub.status.busy": "2022-01-06T16:30:14.751628Z",
     "iopub.status.idle": "2022-01-06T16:30:14.761564Z",
     "shell.execute_reply": "2022-01-06T16:30:14.760736Z",
     "shell.execute_reply.started": "2022-01-06T16:30:14.752008Z"
    }
   },
   "outputs": [],
   "source": [
    "#normalize\n",
    "future = (future-X_min)/(X_max-X_min)\n",
    "#add axis\n",
    "future = np.expand_dims(future, axis=0)\n",
    "print(future.shape)\n",
    "type(future)"
   ]
  },
  {
   "cell_type": "code",
   "execution_count": 38,
   "metadata": {
    "execution": {
     "iopub.execute_input": "2022-01-06T16:30:14.763663Z",
     "iopub.status.busy": "2022-01-06T16:30:14.763132Z",
     "iopub.status.idle": "2022-01-06T16:30:15.676685Z",
     "shell.execute_reply": "2022-01-06T16:30:15.676003Z",
     "shell.execute_reply.started": "2022-01-06T16:30:14.763628Z"
    }
   },
   "outputs": [],
   "source": [
    "# Autoregressive Forecasting\n",
    "reg_predictions = np.array([])\n",
    "X_temp = future\n",
    "for reg in range(0,reg_telescope + telescope,telescope): #telescope is set to 1 for AR\n",
    "    pred_temp = model.predict(X_temp)\n",
    "    #the first prediction\n",
    "    if(len(reg_predictions)==0):\n",
    "        reg_predictions = pred_temp\n",
    "    else:\n",
    "        reg_predictions = np.concatenate((reg_predictions,pred_temp),axis=1)\n",
    "    X_temp = np.concatenate((X_temp[:,telescope:,:],pred_temp), axis=1)\n",
    "\n",
    "reg_predictions = reg_predictions[:,:reg_telescope,:]"
   ]
  },
  {
   "cell_type": "code",
   "execution_count": 39,
   "metadata": {
    "execution": {
     "iopub.execute_input": "2022-01-06T16:30:15.678095Z",
     "iopub.status.busy": "2022-01-06T16:30:15.677827Z",
     "iopub.status.idle": "2022-01-06T16:30:15.686312Z",
     "shell.execute_reply": "2022-01-06T16:30:15.685608Z",
     "shell.execute_reply.started": "2022-01-06T16:30:15.678060Z"
    }
   },
   "outputs": [],
   "source": [
    "print(reg_predictions.shape)\n",
    "type(reg_predictions)\n",
    "assert(not None in reg_predictions)"
   ]
  },
  {
   "cell_type": "code",
   "execution_count": 40,
   "metadata": {
    "execution": {
     "iopub.execute_input": "2022-01-06T16:30:15.691001Z",
     "iopub.status.busy": "2022-01-06T16:30:15.690780Z",
     "iopub.status.idle": "2022-01-06T16:30:16.383603Z",
     "shell.execute_reply": "2022-01-06T16:30:16.382744Z",
     "shell.execute_reply.started": "2022-01-06T16:30:15.690967Z"
    }
   },
   "outputs": [],
   "source": [
    "figs, axs = plt.subplots(len(target_labels), 1, sharex=True, figsize=(17,17))\n",
    "for i, col in enumerate(target_labels):\n",
    "    axs[i].plot(np.arange(len(future[0,:,i])), future[0,:,i])\n",
    "    axs[i].plot(np.arange(len(future[0,:,i]), len(future[0,:,i])+reg_telescope), reg_predictions[0,:,i], color='orange')\n",
    "    axs[i].set_title(col)\n",
    "    axs[i].set_ylim(0,1)\n",
    "plt.show()"
   ]
  },
  {
   "cell_type": "code",
   "execution_count": 41,
   "metadata": {
    "execution": {
     "iopub.execute_input": "2022-01-06T16:30:16.385267Z",
     "iopub.status.busy": "2022-01-06T16:30:16.385010Z",
     "iopub.status.idle": "2022-01-06T16:30:16.389401Z",
     "shell.execute_reply": "2022-01-06T16:30:16.388656Z",
     "shell.execute_reply.started": "2022-01-06T16:30:16.385234Z"
    }
   },
   "outputs": [],
   "source": [
    "#denormalize\n",
    "reg_predictions = reg_predictions * (X_max - X_min) + X_min"
   ]
  },
  {
   "cell_type": "code",
   "execution_count": 42,
   "metadata": {
    "execution": {
     "iopub.execute_input": "2022-01-06T16:30:16.391636Z",
     "iopub.status.busy": "2022-01-06T16:30:16.390766Z",
     "iopub.status.idle": "2022-01-06T16:30:17.113783Z",
     "shell.execute_reply": "2022-01-06T16:30:17.113143Z",
     "shell.execute_reply.started": "2022-01-06T16:30:16.391599Z"
    }
   },
   "outputs": [],
   "source": [
    "future = future * (X_max - X_min) + X_min\n",
    "#plot the result\n",
    "figs, axs = plt.subplots(len(target_labels), 1, sharex=True, figsize=(17,17))\n",
    "for i, col in enumerate(target_labels):\n",
    "    axs[i].plot(np.arange(len(future[0,:,i])), future[0,:,i])\n",
    "    axs[i].plot(np.arange(len(future[0,:,i]), len(future[0,:,i])+reg_telescope), reg_predictions[0,:,i], color='orange')\n",
    "    axs[i].set_title(col)\n",
    "plt.show()"
   ]
  }
 ],
 "metadata": {
  "kernelspec": {
   "display_name": "Python 3 (ipykernel)",
   "language": "python",
   "name": "python3"
  },
  "language_info": {
   "codemirror_mode": {
    "name": "ipython",
    "version": 3
   },
   "file_extension": ".py",
   "mimetype": "text/x-python",
   "name": "python",
   "nbconvert_exporter": "python",
   "pygments_lexer": "ipython3",
   "version": "3.9.7"
  }
 },
 "nbformat": 4,
 "nbformat_minor": 4
}
